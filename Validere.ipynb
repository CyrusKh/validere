{
 "cells": [
  {
   "cell_type": "code",
   "execution_count": 1,
   "metadata": {
    "collapsed": true
   },
   "outputs": [],
   "source": [
    "import pandas as pd\n",
    "import numpy as np\n",
    "from sklearn.model_selection import train_test_split\n",
    "import matplotlib.pyplot as plt"
   ]
  },
  {
   "cell_type": "markdown",
   "metadata": {},
   "source": [
    "# 1. Housekeeping and Data Preparation"
   ]
  },
  {
   "cell_type": "code",
   "execution_count": 3,
   "metadata": {
    "collapsed": true
   },
   "outputs": [],
   "source": [
    "def load_data(filepath):\n",
    "    \"\"\"Loads in original data from the CSV file contained in the location given by\n",
    "    filepath.\n",
    "\n",
    "    params:\n",
    "\n",
    "    :filepath: a string containing the path to the data-containing CSV.\n",
    "\n",
    "    returns: \n",
    "    \n",
    "    :df: the original CSV file just so that we don't have to load it every time\"\"\"\n",
    "    \n",
    "    df = pd.read_csv(filepath)\n",
    "\n",
    "    return  df\n",
    "#enter your data directory in a format like 'c:/abc/def/2019_data.csv'\n",
    "df=load_data('c:/abc/def/2019_data.csv') "
   ]
  },
  {
   "cell_type": "code",
   "execution_count": 4,
   "metadata": {},
   "outputs": [
    {
     "name": "stderr",
     "output_type": "stream",
     "text": [
      "d:\\Users\\Cyrus\\Anaconda3\\lib\\site-packages\\ipykernel_launcher.py:31: SettingWithCopyWarning: \n",
      "A value is trying to be set on a copy of a slice from a DataFrame.\n",
      "Try using .loc[row_indexer,col_indexer] = value instead\n",
      "\n",
      "See the caveats in the documentation: http://pandas.pydata.org/pandas-docs/stable/indexing.html#indexing-view-versus-copy\n"
     ]
    }
   ],
   "source": [
    "def df_preparation(df):\n",
    "    \"\"\"The original dataframe has athlete names with variables and values in two different columns for each date throughout \n",
    "    the year. What we need is to have names with variables (aka features) each in one column and values in rows. Therefore,\n",
    "    the original file is pivoted accordingly.\n",
    "\n",
    "    params:\n",
    "\n",
    "    :df: the original data read from CSV file\n",
    "\n",
    "    returns: \n",
    "    \n",
    "    :dataset: a dataframe with the columns that we need\"\"\"\n",
    "    \n",
    "    # First remove any variables that are of no interest.\n",
    "    #Trivial correlated features such as Scoring|Points|POINTS|won|Won|SCORE|FedExCup are removed from the analysis. \n",
    "    \n",
    "    dftotes=df[df['Variable'].str.contains(\"Driving|Putting|Distance|Accuracy|Drive|Putt|Money\")]\n",
    "    dftotes=dftotes[~dftotes['Variable'].str.contains(\"FedExCup\")]\n",
    "    \n",
    "    # Then pivot the dataframe so that we have features in columns\n",
    "    df_sorted=dftotes.pivot_table(\n",
    "            values='Value', \n",
    "            index=['Player Name'], \n",
    "            columns='Variable', \n",
    "            aggfunc='first')\n",
    "\n",
    "    dataset = df_sorted\n",
    "    \n",
    "    # Our target is the 'Official Money - (MONEY)' which has $ and , so needs to be cleaned up. First we drop NaNs\n",
    "    dataset['Official Money - (MONEY)']=dataset['Official Money - (MONEY)'].replace(to_replace='None', value=np.nan).dropna()\n",
    "    dataset = dataset[pd.notnull(dataset['Official Money - (MONEY)'])]\n",
    "    # Then we convert moneys to numbers\n",
    "    dataset['Official Money - (MONEY)'] = dataset['Official Money - (MONEY)'].fillna(0.0).str.replace('[$,]', '').astype('float')  \n",
    "\n",
    "    return  dataset\n",
    "dataset=df_preparation(df)"
   ]
  },
  {
   "cell_type": "code",
   "execution_count": 5,
   "metadata": {
    "collapsed": true
   },
   "outputs": [],
   "source": [
    "def drop_nan_cols(dataset,drop_threshold): \n",
    "    \"\"\"If a feature is not available for at least 50% of athletes, that\n",
    "    feature is not used in analyses.\n",
    "    \n",
    "    params:\n",
    "\n",
    "    :dataset: a Pandas DataFrame as loaded by the load_data() function.\n",
    "    :drop_threshold: the number of NaN entries above which we remove a column\n",
    "    from the dataset (considering the dataset has 265 entries, this threshold is\n",
    "    taken as 130 meaning at a variable data should be available for at least 50% \n",
    "    of athletes)\n",
    "\n",
    "    returns: \n",
    "    \n",
    "    :reduced_dataset: (the dataset taken as input, with any columns\n",
    "    containing more than drop_threshold NaN entries dropped).\"\"\"\n",
    "    \n",
    "    #dataset=dataset.applymap(lambda x: np.nan if x=='?' else x)\n",
    "    reduced_dataset=dataset.drop(dataset.isnull().sum().gt(drop_threshold)[lambda x: x].index , axis='columns')\n",
    "\n",
    "    return  reduced_dataset\n",
    "reduced_dataset=drop_nan_cols(dataset,drop_threshold=130)"
   ]
  },
  {
   "cell_type": "code",
   "execution_count": 6,
   "metadata": {
    "collapsed": true
   },
   "outputs": [],
   "source": [
    "def change_obj_to_int(inputs):\n",
    "    \"\"\"Converts the columns with object type, into int type, which it needs \n",
    "    to be in order to be fed into the downstream learning algorithm.\n",
    "\n",
    "    params:\n",
    "\n",
    "    :inputs: a Pandas DataFrame that contains the inputs that will be taken in\n",
    "    by the downstream learning algorithm.\n",
    "\n",
    "    returns: \n",
    "    \n",
    "    :inputs: a Pandas DataFrame with no obj type\"\"\"\n",
    "    \n",
    "    inputs['Official Money - (MONEY)']=inputs['Official Money - (MONEY)'].astype(int)\n",
    "    for col in inputs.columns[inputs.dtypes=='object']:\n",
    "        inputs[col] = pd.to_numeric(inputs[col], errors='coerce')\n",
    "    return inputs \n",
    "reduced_dataset=change_obj_to_int(reduced_dataset)"
   ]
  },
  {
   "cell_type": "code",
   "execution_count": 7,
   "metadata": {
    "collapsed": true
   },
   "outputs": [],
   "source": [
    "def split_train_and_test(dataset,test_frac=0.25):\n",
    "    \"\"\"Splits the input dataset into randomly-shuffled training and testing\n",
    "    sets.\n",
    "\n",
    "    params:\n",
    "\n",
    "    :dataset: a Pandas DataFrame containing the total dataset, which is to be\n",
    "    split into training and testing components.\n",
    "    :test_frac: the fraction of samples to be reserved for testing.\n",
    "\n",
    "    returns: \n",
    "    \n",
    "    :X_train, X_test, y_train, y_test: the splitted training and testing sets as\n",
    "    Pandas DataFrames.\n",
    "    :X, y: prepared dataframes prior to splitting (for debugging purposes mostely)\"\"\"\n",
    "    \n",
    "    from sklearn.model_selection import train_test_split\n",
    "    \n",
    "    X=dataset[list(set(list(dataset.columns))-set(['Official Money - (MONEY)']))]\n",
    "    y=dataset['Official Money - (MONEY)']\n",
    "    X_train, X_test, y_train, y_test = train_test_split(X, y, test_size=0.25)\n",
    "\n",
    "    return X_train, X_test, y_train, y_test, X, y\n",
    "X_train, X_test, y_train, y_test, X, y =split_train_and_test(reduced_dataset)"
   ]
  },
  {
   "cell_type": "code",
   "execution_count": 8,
   "metadata": {},
   "outputs": [
    {
     "name": "stderr",
     "output_type": "stream",
     "text": [
      "d:\\Users\\Cyrus\\Anaconda3\\lib\\site-packages\\ipykernel_launcher.py:22: SettingWithCopyWarning: \n",
      "A value is trying to be set on a copy of a slice from a DataFrame\n",
      "\n",
      "See the caveats in the documentation: http://pandas.pydata.org/pandas-docs/stable/indexing.html#indexing-view-versus-copy\n",
      "d:\\Users\\Cyrus\\Anaconda3\\lib\\site-packages\\ipykernel_launcher.py:23: SettingWithCopyWarning: \n",
      "A value is trying to be set on a copy of a slice from a DataFrame\n",
      "\n",
      "See the caveats in the documentation: http://pandas.pydata.org/pandas-docs/stable/indexing.html#indexing-view-versus-copy\n",
      "d:\\Users\\Cyrus\\Anaconda3\\lib\\site-packages\\pandas\\core\\frame.py:2852: SettingWithCopyWarning: \n",
      "A value is trying to be set on a copy of a slice from a DataFrame\n",
      "\n",
      "See the caveats in the documentation: http://pandas.pydata.org/pandas-docs/stable/indexing.html#indexing-view-versus-copy\n",
      "  downcast=downcast, **kwargs)\n",
      "d:\\Users\\Cyrus\\Anaconda3\\lib\\site-packages\\sklearn\\utils\\validation.py:429: DataConversionWarning: Data with input dtype int32 was converted to float64 by MinMaxScaler.\n",
      "  warnings.warn(msg, _DataConversionWarning)\n",
      "d:\\Users\\Cyrus\\Anaconda3\\lib\\site-packages\\sklearn\\preprocessing\\data.py:321: DeprecationWarning: Passing 1d arrays as data is deprecated in 0.17 and will raise ValueError in 0.19. Reshape your data either using X.reshape(-1, 1) if your data has a single feature or X.reshape(1, -1) if it contains a single sample.\n",
      "  warnings.warn(DEPRECATION_MSG_1D, DeprecationWarning)\n",
      "d:\\Users\\Cyrus\\Anaconda3\\lib\\site-packages\\sklearn\\preprocessing\\data.py:356: DeprecationWarning: Passing 1d arrays as data is deprecated in 0.17 and will raise ValueError in 0.19. Reshape your data either using X.reshape(-1, 1) if your data has a single feature or X.reshape(1, -1) if it contains a single sample.\n",
      "  warnings.warn(DEPRECATION_MSG_1D, DeprecationWarning)\n",
      "d:\\Users\\Cyrus\\Anaconda3\\lib\\site-packages\\sklearn\\preprocessing\\data.py:356: DeprecationWarning: Passing 1d arrays as data is deprecated in 0.17 and will raise ValueError in 0.19. Reshape your data either using X.reshape(-1, 1) if your data has a single feature or X.reshape(1, -1) if it contains a single sample.\n",
      "  warnings.warn(DEPRECATION_MSG_1D, DeprecationWarning)\n"
     ]
    }
   ],
   "source": [
    "def normalize_dataset(X_train, X_test, y_train, y_test):\n",
    "    \"\"\"Normalizes all features in the dataset provided as input.\n",
    "\n",
    "    params:\n",
    "\n",
    "    :dataset: a Pandas DataFrame whose values are to be normalized by column.\n",
    "\n",
    "    returns: \n",
    "    \n",
    "    :X_train_scaled, X_test_scaled, y_train_scaled, y_test_scaled: Pandas DataFrames \n",
    "    whose values have been normalized to between 0 and 1.\"\"\"\n",
    "    \n",
    "    from sklearn.preprocessing import MinMaxScaler\n",
    "    scaler = MinMaxScaler()\n",
    "    \n",
    "    \n",
    "    X_test.fillna(X_test.mean())\n",
    "    X_train.fillna(X_train.mean())\n",
    "\n",
    "    y_test.fillna(X_test.mean())\n",
    "    y_train.fillna(y_train.mean())\n",
    "\n",
    "    X_test.replace([np.inf, -np.inf], np.nan, inplace=True)\n",
    "    X_train.replace([np.inf, -np.inf], np.nan, inplace=True)\n",
    "    y_test.replace([np.inf, -np.inf], np.nan, inplace=True)\n",
    "    y_train.replace([np.inf, -np.inf], np.nan, inplace=True)\n",
    "\n",
    "    X_test.fillna(999, inplace=True)\n",
    "    X_train.fillna(999, inplace=True)\n",
    "    y_test.fillna(999, inplace=True)\n",
    "    y_train.fillna(999, inplace=True)\n",
    "\n",
    "    X_train_scaled = scaler.fit_transform(X_train)\n",
    "    X_test_scaled = scaler.transform(X_test) \n",
    "    y_train_scaled = scaler.fit_transform(y_train)\n",
    "    y_test_scaled = scaler.transform(y_test)     \n",
    "\n",
    "    return X_train_scaled, X_test_scaled, y_train_scaled, y_test_scaled\n",
    "X_train_scaled, X_test_scaled, y_train_scaled, y_test_scaled=normalize_dataset(X_train, X_test, y_train, y_test)"
   ]
  },
  {
   "cell_type": "markdown",
   "metadata": {},
   "source": [
    "# 2. Train and Predict"
   ]
  },
  {
   "cell_type": "code",
   "execution_count": 9,
   "metadata": {
    "collapsed": true
   },
   "outputs": [],
   "source": [
    "cv_params = {'max_depth': [3,5,7], 'min_child_weight': [3,5,7], 'learning_rate': [0.1,0.01],\n",
    "        'subsample': [0.5,0.7,0.9], 'n_estimators': [100],\n",
    "        'colsample_bytree': [0.6], 'objective': ['reg:logistic'], 'gamma': [0.5],\n",
    "        'reg_lambda': [0.5], 'base_score': [0.5], 'seed':[10], 'nthread':[1], 'silent': [0]}"
   ]
  },
  {
   "cell_type": "code",
   "execution_count": 10,
   "metadata": {
    "collapsed": true
   },
   "outputs": [],
   "source": [
    "def find_best_parameters(): \n",
    "    \"\"\"Runs a grid search over parameter space by using GridSearchCV on the\n",
    "    xgb.XGBRegressor() model, and identifies the best parameters for the model\n",
    "    among the options in cv_params.\n",
    "\n",
    "    returns: \n",
    "    \n",
    "    :model_grid: optimized params, a dictionary object containing the optimal\n",
    "    parameter values identified by the grid search.\n",
    "    :xgb_model: the actual model (for debugging purposes)\"\"\"\n",
    "\n",
    "    xgbreg = GridSearchCV(xgb.XGBRegressor(), param_grid = cv_params, scoring='mean_squared_error', cv = 5, n_jobs = -1)\n",
    "    xgbreg.fit(X_train_scaled, y_train_scaled)\n",
    "    \n",
    "    xgb_model = xgbreg.fit(X_train_scaled, y_train_scaled)\n",
    "    model_grid = xgbreg.best_estimator_.get_params()\n",
    "\n",
    "    print('The optimized parameters are: ', model_grid)\n",
    "    return model_grid, xgb_model"
   ]
  },
  {
   "cell_type": "code",
   "execution_count": 11,
   "metadata": {
    "collapsed": true
   },
   "outputs": [],
   "source": [
    "def find_optimal_num_trees(model_grid,xgdmat,num_boost_round=3000,\n",
    "                            early_stopping_rounds=100):\n",
    "    \"\"\"Determines the best number of trees to use in order to minimize\n",
    "    cross-validation error.\n",
    "\n",
    "    params:\n",
    "\n",
    "    :model_grid: optimized params; a dictionary object providing the parameter values that\n",
    "    have been found to be optimal based on a previously executed grid search.\n",
    "    :xgdmat: an xgboost DMatrix object\n",
    "    :num_boost_round: an int providing the number of boosting iterations used\n",
    "    by the algorithm.\n",
    "    :early_stopping_rounds: an int providing the number of consecutive boosting\n",
    "    rounds over which the validation loss must not decrease before the algorithm\n",
    "    stops.\n",
    "\n",
    "    returns: \n",
    "    \n",
    "    :optimal_num_trees: an int indicating the optimal number of decision\n",
    "    trees to be added together.\"\"\"\n",
    "\n",
    "    cv_xgb = xgb.cv(params = model_grid, dtrain = xgdmat, num_boost_round = 3000,\n",
    "                    nfold = 5, metrics = ['error'], early_stopping_rounds = 100) \n",
    "    optimal_num_trees = len(cv_xgb) - 1    \n",
    "    \n",
    "    print('Optimal Number of Trees is ', optimal_num_trees)\n",
    "    return optimal_num_trees"
   ]
  },
  {
   "cell_type": "code",
   "execution_count": 12,
   "metadata": {
    "collapsed": true
   },
   "outputs": [],
   "source": [
    "def build_model(train_inputs, train_labels, cv_params=cv_params, drop_threshold=0.1):\n",
    "    \"\"\"Builds and trains the XGBoost model using the grid of parameters provided\n",
    "    as input.\n",
    "\n",
    "    params:\n",
    "\n",
    "    :train_inputs: a Pandas DataFrame containing the training input data.\n",
    "    :train_labels: a Pandas DataFrame containing the training labels.\n",
    "    :cv_params: a dictionary object providing the grid of parameter values\n",
    "    to be explored in the search for the optimal set of XGBoost parameters.\n",
    "    :drop_threshold: a float indicating the minimum correlation between an\n",
    "    input feature and the target being investigated, below which we will \n",
    "    discard the feature.\n",
    "\n",
    "    returns: \n",
    "    \n",
    "    :final_gb: the XGBoost model trained using the optimized parameters\n",
    "    from cv_params\"\"\"\n",
    "\n",
    "    optimized_params, xgb_model = find_best_parameters()\n",
    "    xgdmat = xgb.DMatrix(X_train_scaled, y_train_scaled)\n",
    "    feature_names=xgdmat.feature_names\n",
    "    final_gb = xgb.train(optimized_params, xgdmat, num_boost_round = \n",
    "                         find_optimal_num_trees(optimized_params,xgdmat))   \n",
    "\n",
    "    return final_gb"
   ]
  },
  {
   "cell_type": "code",
   "execution_count": 13,
   "metadata": {
    "collapsed": true
   },
   "outputs": [],
   "source": [
    "def assess_model(model, test_inputs, test_labels):\n",
    "    \"\"\"Calculates the mean absolute error that results from the predictions\n",
    "    of the model, taken as input, based on the testing data provided.\n",
    "    Suggestion: first convert the test_inputs into an xgb.DMatrix(), and then\n",
    "    use scikit-learn's mean_absolute_error function, which has been imported\n",
    "    for you at the top of the script.\n",
    "\n",
    "    params:\n",
    "\n",
    "    :model: an XGBoost model that has been trained on an optimized set of\n",
    "    parameters.\n",
    "    :test_inputs: a Pandas DataFrame providing the testing input data.\n",
    "    :test_labels a Pandas DataFrame providing the testing labels.\n",
    "\n",
    "    returns: \n",
    "    \n",
    "    :mae: the mean absolute error obtained by applying the model\n",
    "    to the testing data\"\"\"\n",
    "    from sklearn.metrics import accuracy_score\n",
    "    test_inputs_dmat = xgb.DMatrix(test_inputs)\n",
    "    y_pred = model.predict(test_inputs_dmat) \n",
    "    \n",
    "    mae = mean_absolute_error(y_test_scaled, y_pred, sample_weight=None, multioutput='uniform_average')\n",
    "\n",
    "    return mae"
   ]
  },
  {
   "cell_type": "code",
   "execution_count": 14,
   "metadata": {
    "collapsed": true
   },
   "outputs": [],
   "source": [
    "def determine_importances(model):\n",
    "    \"\"\"Determines the importances of each feature in the model using\n",
    "    the XGBoost get_fscore() function.\n",
    "\n",
    "    params:\n",
    "\n",
    "    :model: the trained XGBoost model.\n",
    "\n",
    "    returns: \n",
    "    \n",
    "    :importances: a dictionary object containing the importances\n",
    "    assigned to each feature\"\"\"\n",
    "    \n",
    "    importances = model.get_fscore()\n",
    "\n",
    "    return importances"
   ]
  },
  {
   "cell_type": "code",
   "execution_count": 15,
   "metadata": {},
   "outputs": [
    {
     "name": "stderr",
     "output_type": "stream",
     "text": [
      "d:\\Users\\Cyrus\\Anaconda3\\lib\\site-packages\\sklearn\\cross_validation.py:44: DeprecationWarning: This module was deprecated in version 0.18 in favor of the model_selection module into which all the refactored classes and functions are moved. Also note that the interface of the new CV iterators are different from that of this module. This module will be removed in 0.20.\n",
      "  \"This module will be removed in 0.20.\", DeprecationWarning)\n",
      "d:\\Users\\Cyrus\\Anaconda3\\lib\\site-packages\\sklearn\\grid_search.py:43: DeprecationWarning: This module was deprecated in version 0.18 in favor of the model_selection module into which all the refactored classes and functions are moved. This module will be removed in 0.20.\n",
      "  DeprecationWarning)\n"
     ]
    },
    {
     "name": "stdout",
     "output_type": "stream",
     "text": [
      "The optimized parameters are:  {'base_score': 0.5, 'booster': 'gbtree', 'colsample_bylevel': 1, 'colsample_bynode': 1, 'colsample_bytree': 0.6, 'gamma': 0.5, 'importance_type': 'gain', 'learning_rate': 0.1, 'max_delta_step': 0, 'max_depth': 3, 'min_child_weight': 3, 'missing': None, 'n_estimators': 100, 'n_jobs': 1, 'nthread': 1, 'objective': 'reg:logistic', 'random_state': 0, 'reg_alpha': 0, 'reg_lambda': 0.5, 'scale_pos_weight': 1, 'seed': 10, 'silent': 0, 'subsample': 0.7, 'verbosity': 1}\n",
      "Optimal Number of Trees is  97\n",
      "Mean Absolute Error is  0.042747251295\n"
     ]
    }
   ],
   "source": [
    "from sklearn.grid_search import GridSearchCV\n",
    "import xgboost as xgb\n",
    "from sklearn.metrics import mean_absolute_error\n",
    "\n",
    "final_gb = build_model(X_train_scaled, y_train_scaled)\n",
    "print('Mean Absolute Error is ', assess_model(final_gb, X_test_scaled, y_test_scaled))\n",
    "importances = determine_importances(final_gb)"
   ]
  },
  {
   "cell_type": "code",
   "execution_count": 16,
   "metadata": {},
   "outputs": [
    {
     "data": {
      "image/png": "[encoded data removed]",
      "text/plain": [
       "<matplotlib.figure.Figure at 0x2455bda0>"
      ]
     },
     "metadata": {},
     "output_type": "display_data"
    }
   ],
   "source": [
    "# Plot the results\n",
    "# create dict \n",
    "myfeatures = X_train.columns\n",
    "dict_features = dict(enumerate(myfeatures))\n",
    "\n",
    "# feat importance with names f1,f2,...\n",
    "axsub = xgb.plot_importance(final_gb )\n",
    "\n",
    "# get the original names back\n",
    "Text_yticklabels = list(axsub.get_yticklabels())\n",
    "dict_features = dict(enumerate(myfeatures))\n",
    "lst_yticklabels = [ Text_yticklabels[i].get_text().lstrip('f') for i in range(len(Text_yticklabels))]\n",
    "lst_yticklabels = [ dict_features[int(i)] for i in lst_yticklabels]\n",
    "\n",
    "axsub.set_yticklabels(lst_yticklabels, size= 'small')\n",
    "#print(dict_features)\n",
    "\n",
    "plt.show()"
   ]
  },
  {
   "cell_type": "code",
   "execution_count": null,
   "metadata": {
    "collapsed": true
   },
   "outputs": [],
   "source": []
  }
 ],
 "metadata": {
  "kernelspec": {
   "display_name": "Python 3",
   "language": "python",
   "name": "python3"
  },
  "language_info": {
   "codemirror_mode": {
    "name": "ipython",
    "version": 3
   },
   "file_extension": ".py",
   "mimetype": "text/x-python",
   "name": "python",
   "nbconvert_exporter": "python",
   "pygments_lexer": "ipython3",
   "version": "3.6.2"
  }
 },
 "nbformat": 4,
 "nbformat_minor": 2
}
